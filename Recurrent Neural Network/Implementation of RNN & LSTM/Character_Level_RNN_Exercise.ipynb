{
 "cells": [
  {
   "cell_type": "markdown",
   "source": [
    "# Character-Level LSTM in PyTorch\r\n",
    "\r\n",
    "In this notebook, I'll construct a character-level LSTM with PyTorch. The network will train character by character on some text, then generate new text character by character. As an example, I will train on Anna Karenina. **This model will be able to generate new text based on the text from the book!**\r\n",
    "\r\n",
    "This network is based off of Andrej Karpathy's [post on RNNs](http://karpathy.github.io/2015/05/21/rnn-effectiveness/) and [implementation in Torch](https://github.com/karpathy/char-rnn). Below is the general architecture of the character-wise RNN.\r\n",
    "\r\n",
    "<img src=\"./assets/charseq.jpeg\">"
   ],
   "metadata": {
    "id": "f75WXagLsDg6"
   }
  },
  {
   "cell_type": "markdown",
   "source": [
    "First let's load in our required resources for data loading and model creation."
   ],
   "metadata": {
    "id": "l1cmpcS3sDg8"
   }
  },
  {
   "cell_type": "code",
   "execution_count": 1,
   "source": [
    "import numpy as np\r\n",
    "import torch\r\n",
    "from torch import nn\r\n",
    "import torch.nn.functional as F"
   ],
   "outputs": [],
   "metadata": {
    "id": "SK_7I4HPsDg8"
   }
  },
  {
   "cell_type": "markdown",
   "source": [
    "## Load in Data\n",
    "\n",
    "Then, we'll load the Anna Karenina text file and convert it into integers for our network to use. "
   ],
   "metadata": {
    "id": "Dsv48tk3sDg9"
   }
  },
  {
   "cell_type": "code",
   "execution_count": 2,
   "source": [
    "# open text file and read in data as `text`\r\n",
    "with open('data/anna.txt', 'r') as f:\r\n",
    "    text = f.read()"
   ],
   "outputs": [],
   "metadata": {
    "id": "RZAxJPgbsDg9"
   }
  },
  {
   "cell_type": "markdown",
   "source": [
    "Let's check out the first 100 characters, make sure everything is peachy. According to the [American Book Review](http://americanbookreview.org/100bestlines.asp), this is the 6th best first line of a book ever."
   ],
   "metadata": {
    "id": "OFmIUyW4sDg-"
   }
  },
  {
   "cell_type": "code",
   "execution_count": 3,
   "source": [
    "text[:100]"
   ],
   "outputs": [
    {
     "output_type": "execute_result",
     "data": {
      "text/plain": [
       "'Chapter 1\\n\\n\\nHappy families are all alike; every unhappy family is unhappy in its own\\nway.\\n\\nEverythin'"
      ],
      "application/vnd.google.colaboratory.intrinsic+json": {
       "type": "string"
      }
     },
     "metadata": {},
     "execution_count": 3
    }
   ],
   "metadata": {
    "colab": {
     "base_uri": "https://localhost:8080/",
     "height": 35
    },
    "id": "j3DMPDY3sDg-",
    "outputId": "c85b05c3-eb37-408e-c7c0-829086198510"
   }
  },
  {
   "cell_type": "markdown",
   "source": [
    "### Tokenization\n",
    "\n",
    "In the cells, below, I'm creating a couple of **dictionaries** to convert the characters to and from integers. Encoding the characters as integers makes it easier to use as input in the network."
   ],
   "metadata": {
    "id": "rcp2cIHesDg_"
   }
  },
  {
   "cell_type": "code",
   "execution_count": 4,
   "source": [
    "# encode the text and map each character to an integer and vice versa\r\n",
    "\r\n",
    "# we create two dictionaries:\r\n",
    "# 1. int2char, which maps integers to characters\r\n",
    "# 2. char2int, which maps characters to unique integers\r\n",
    "chars = tuple(set(text))\r\n",
    "int2char = dict(enumerate(chars))\r\n",
    "char2int = {ch: ii for ii, ch in int2char.items()}\r\n",
    "\r\n",
    "# encode the text\r\n",
    "encoded = np.array([char2int[ch] for ch in text])"
   ],
   "outputs": [],
   "metadata": {
    "id": "JQ5es0jFsDg_"
   }
  },
  {
   "cell_type": "markdown",
   "source": [
    "And we can see those same characters from above, encoded as integers."
   ],
   "metadata": {
    "id": "gnqnyb0xsDhA"
   }
  },
  {
   "cell_type": "code",
   "execution_count": 5,
   "source": [
    "encoded[:100]"
   ],
   "outputs": [
    {
     "output_type": "execute_result",
     "data": {
      "text/plain": [
       "array([22, 63, 48,  9, 30, 27, 51, 21, 81, 35, 35, 35,  8, 48,  9,  9, 44,\n",
       "       21, 15, 48, 28,  3, 79,  3, 27, 58, 21, 48, 51, 27, 21, 48, 79, 79,\n",
       "       21, 48, 79,  3, 71, 27, 70, 21, 27, 20, 27, 51, 44, 21, 54, 50, 63,\n",
       "       48,  9,  9, 44, 21, 15, 48, 28,  3, 79, 44, 21,  3, 58, 21, 54, 50,\n",
       "       63, 48,  9,  9, 44, 21,  3, 50, 21,  3, 30, 58, 21, 18, 72, 50, 35,\n",
       "       72, 48, 44, 66, 35, 35, 76, 20, 27, 51, 44, 30, 63,  3, 50])"
      ]
     },
     "metadata": {},
     "execution_count": 5
    }
   ],
   "metadata": {
    "colab": {
     "base_uri": "https://localhost:8080/"
    },
    "id": "ayrD2esksDhA",
    "outputId": "925499c8-dd53-4910-d6c9-01fb54da9fa5"
   }
  },
  {
   "cell_type": "markdown",
   "source": [
    "## Pre-processing the data\n",
    "\n",
    "As you can see in our char-RNN image above, our LSTM expects an input that is **one-hot encoded** meaning that each character is converted into an integer (via our created dictionary) and *then* converted into a column vector where only it's corresponding integer index will have the value of 1 and the rest of the vector will be filled with 0's. Since we're one-hot encoding the data, let's make a function to do that!\n"
   ],
   "metadata": {
    "id": "WG4qRFBFsDhA"
   }
  },
  {
   "cell_type": "code",
   "execution_count": 6,
   "source": [
    "def one_hot_encode(arr, n_labels):\r\n",
    "    \r\n",
    "    # Initialize the encoded array\r\n",
    "    one_hot = np.zeros((arr.size, n_labels), dtype=np.float32)\r\n",
    "    \r\n",
    "    # Fill the appropriate elements with ones\r\n",
    "    one_hot[np.arange(one_hot.shape[0]), arr.flatten()] = 1.\r\n",
    "    \r\n",
    "    # Finally reshape it to get back to the original array\r\n",
    "    one_hot = one_hot.reshape((*arr.shape, n_labels))\r\n",
    "    \r\n",
    "    return one_hot"
   ],
   "outputs": [],
   "metadata": {
    "id": "9a39WzuGsDhB"
   }
  },
  {
   "cell_type": "code",
   "execution_count": 7,
   "source": [
    "# check that the function works as expected\r\n",
    "test_seq = np.array([[3, 5, 1]])\r\n",
    "one_hot = one_hot_encode(test_seq, 8)\r\n",
    "\r\n",
    "print(one_hot)"
   ],
   "outputs": [
    {
     "output_type": "stream",
     "name": "stdout",
     "text": [
      "[[[0. 0. 0. 1. 0. 0. 0. 0.]\n",
      "  [0. 0. 0. 0. 0. 1. 0. 0.]\n",
      "  [0. 1. 0. 0. 0. 0. 0. 0.]]]\n"
     ]
    }
   ],
   "metadata": {
    "colab": {
     "base_uri": "https://localhost:8080/"
    },
    "id": "W-eHIskxsDhB",
    "outputId": "7aa05b02-435f-4a93-8a9c-e1a3d2ed0291"
   }
  },
  {
   "cell_type": "markdown",
   "source": [
    "## Making training mini-batches\n",
    "\n",
    "\n",
    "To train on this data, we also want to create mini-batches for training. Remember that we want our batches to be multiple sequences of some desired number of sequence steps. Considering a simple example, our batches would look like this:\n",
    "\n",
    "<img src=\"./assets/sequence_batching@1x.png\" width=500px>\n",
    "\n",
    "\n",
    "<br>\n",
    "\n",
    "In this example, we'll take the encoded characters (passed in as the `arr` parameter) and split them into multiple sequences, given by `batch_size`. Each of our sequences will be `seq_length` long.\n",
    "\n",
    "### Creating Batches\n",
    "\n",
    "**1. The first thing we need to do is discard some of the text so we only have completely full mini-batches. **\n",
    "\n",
    "Each batch contains $N \\times M$ characters, where $N$ is the batch size (the number of sequences in a batch) and $M$ is the seq_length or number of time steps in a sequence. Then, to get the total number of batches, $K$, that we can make from the array `arr`, you divide the length of `arr` by the number of characters per batch. Once you know the number of batches, you can get the total number of characters to keep from `arr`, $N * M * K$.\n",
    "\n",
    "**2. After that, we need to split `arr` into $N$ batches. ** \n",
    "\n",
    "You can do this using `arr.reshape(size)` where `size` is a tuple containing the dimensions sizes of the reshaped array. We know we want $N$ sequences in a batch, so let's make that the size of the first dimension. For the second dimension, you can use `-1` as a placeholder in the size, it'll fill up the array with the appropriate data for you. After this, you should have an array that is $N \\times (M * K)$.\n",
    "\n",
    "**3. Now that we have this array, we can iterate through it to get our mini-batches. **\n",
    "\n",
    "The idea is each batch is a $N \\times M$ window on the $N \\times (M * K)$ array. For each subsequent batch, the window moves over by `seq_length`. We also want to create both the input and target arrays. Remember that the targets are just the inputs shifted over by one character. The way I like to do this window is use `range` to take steps of size `n_steps` from $0$ to `arr.shape[1]`, the total number of tokens in each sequence. That way, the integers you get from `range` always point to the start of a batch, and each window is `seq_length` wide.\n",
    "\n",
    "> **TODO:** Write the code for creating batches in the function below. The exercises in this notebook _will not be easy_. I've provided a notebook with solutions alongside this notebook. If you get stuck, checkout the solutions. The most important thing is that you don't copy and paste the code into here, **type out the solution code yourself.**"
   ],
   "metadata": {
    "id": "a6FUsOQZsDhC"
   }
  },
  {
   "cell_type": "code",
   "execution_count": 8,
   "source": [
    "def get_batches(arr, batch_size, seq_length):\r\n",
    "    '''Create a generator that returns batches of size\r\n",
    "       batch_size x seq_length from arr.\r\n",
    "       \r\n",
    "       Arguments\r\n",
    "       ---------\r\n",
    "       arr: Array you want to make batches from\r\n",
    "       batch_size: Batch size, the number of sequences per batch\r\n",
    "       seq_length: Number of encoded chars in a sequence\r\n",
    "    '''\r\n",
    "    \r\n",
    "    batch_size_total = batch_size * seq_length\r\n",
    "    \r\n",
    "    ## TODO: Get the number of batches we can make\r\n",
    "    n_batches = len(arr) // batch_size_total\r\n",
    "    \r\n",
    "    ## TODO: Keep only enough characters to make full batches\r\n",
    "    arr = arr[:n_batches*batch_size_total]\r\n",
    "    \r\n",
    "    ## TODO: Reshape into batch_size rows\r\n",
    "    arr = arr.reshape((batch_size, -1))\r\n",
    "    \r\n",
    "    ## TODO: Iterate over the batches using a window of size seq_length\r\n",
    "    for n in range(0, arr.shape[1], seq_length):\r\n",
    "        # The features\r\n",
    "        x = arr[:, n:n+seq_length]\r\n",
    "        # The targets, shifted by one\r\n",
    "        y = np.zeros_like(x)\r\n",
    "        try:\r\n",
    "            y[:, :-1], y[:, -1] = x[:, 1:], arr[:, n+seq_length]\r\n",
    "        except IndexError:\r\n",
    "            y[:, :-1], y[:, -1] = x[:, 1:], arr[:, 0]\r\n",
    "        yield x, y"
   ],
   "outputs": [],
   "metadata": {
    "id": "JvLC67GEsDhD"
   }
  },
  {
   "cell_type": "markdown",
   "source": [
    "### Test Your Implementation\n",
    "\n",
    "Now I'll make some data sets and we can check out what's going on as we batch data. Here, as an example, I'm going to use a batch size of 8 and 50 sequence steps."
   ],
   "metadata": {
    "id": "Uucp36NlsDhE"
   }
  },
  {
   "cell_type": "code",
   "execution_count": 9,
   "source": [
    "batches = get_batches(encoded, 8, 50)\n",
    "x, y = next(batches)"
   ],
   "outputs": [],
   "metadata": {
    "id": "Hu05Gc6ysDhE"
   }
  },
  {
   "cell_type": "code",
   "execution_count": 10,
   "source": [
    "# printing out the first 10 items in a sequence\n",
    "print('x\\n', x[:10, :10])\n",
    "print('\\ny\\n', y[:10, :10])"
   ],
   "outputs": [
    {
     "output_type": "stream",
     "name": "stdout",
     "text": [
      "x\n",
      " [[22 63 48  9 30 27 51 21 81 35]\n",
      " [58 18 50 21 30 63 48 30 21 48]\n",
      " [27 50 16 21 18 51 21 48 21 15]\n",
      " [58 21 30 63 27 21 43 63  3 27]\n",
      " [21 58 48 72 21 63 27 51 21 30]\n",
      " [43 54 58 58  3 18 50 21 48 50]\n",
      " [21 13 50 50 48 21 63 48 16 21]\n",
      " [32 38 79 18 50 58 71 44 66 21]]\n",
      "\n",
      "y\n",
      " [[63 48  9 30 27 51 21 81 35 35]\n",
      " [18 50 21 30 63 48 30 21 48 30]\n",
      " [50 16 21 18 51 21 48 21 15 18]\n",
      " [21 30 63 27 21 43 63  3 27 15]\n",
      " [58 48 72 21 63 27 51 21 30 27]\n",
      " [54 58 58  3 18 50 21 48 50 16]\n",
      " [13 50 50 48 21 63 48 16 21 58]\n",
      " [38 79 18 50 58 71 44 66 21 53]]\n"
     ]
    }
   ],
   "metadata": {
    "colab": {
     "base_uri": "https://localhost:8080/"
    },
    "id": "U-Bh-yXXsDhF",
    "outputId": "2cd1bdc4-6a8f-4c26-932e-c9c0a8232487"
   }
  },
  {
   "cell_type": "markdown",
   "source": [
    "If you implemented `get_batches` correctly, the above output should look something like \n",
    "```\n",
    "x\n",
    " [[25  8 60 11 45 27 28 73  1  2]\n",
    " [17  7 20 73 45  8 60 45 73 60]\n",
    " [27 20 80 73  7 28 73 60 73 65]\n",
    " [17 73 45  8 27 73 66  8 46 27]\n",
    " [73 17 60 12 73  8 27 28 73 45]\n",
    " [66 64 17 17 46  7 20 73 60 20]\n",
    " [73 76 20 20 60 73  8 60 80 73]\n",
    " [47 35 43  7 20 17 24 50 37 73]]\n",
    "\n",
    "y\n",
    " [[ 8 60 11 45 27 28 73  1  2  2]\n",
    " [ 7 20 73 45  8 60 45 73 60 45]\n",
    " [20 80 73  7 28 73 60 73 65  7]\n",
    " [73 45  8 27 73 66  8 46 27 65]\n",
    " [17 60 12 73  8 27 28 73 45 27]\n",
    " [64 17 17 46  7 20 73 60 20 80]\n",
    " [76 20 20 60 73  8 60 80 73 17]\n",
    " [35 43  7 20 17 24 50 37 73 36]]\n",
    " ```\n",
    " although the exact numbers may be different. Check to make sure the data is shifted over one step for `y`."
   ],
   "metadata": {
    "id": "OLXlI49QsDhG"
   }
  },
  {
   "cell_type": "markdown",
   "source": [
    "---\n",
    "## Defining the network with PyTorch\n",
    "\n",
    "Below is where you'll define the network.\n",
    "\n",
    "<img src=\"./assets/charRNN.png\" width=500px>\n",
    "\n",
    "Next, you'll use PyTorch to define the architecture of the network. We start by defining the layers and operations we want. Then, define a method for the forward pass. You've also been given a method for predicting characters."
   ],
   "metadata": {
    "id": "kPhGCnGOsDhG"
   }
  },
  {
   "cell_type": "markdown",
   "source": [
    "### Model Structure\n",
    "\n",
    "In `__init__` the suggested structure is as follows:\n",
    "* Create and store the necessary dictionaries (this has been done for you)\n",
    "* Define an LSTM layer that takes as params: an input size (the number of characters), a hidden layer size `n_hidden`, a number of layers `n_layers`, a dropout probability `drop_prob`, and a batch_first boolean (True, since we are batching)\n",
    "* Define a dropout layer with `drop_prob`\n",
    "* Define a fully-connected layer with params: input size `n_hidden` and output size (the number of characters)\n",
    "* Finally, initialize the weights (again, this has been given)\n",
    "\n",
    "Note that some parameters have been named and given in the `__init__` function, and we use them and store them by doing something like `self.drop_prob = drop_prob`."
   ],
   "metadata": {
    "id": "aTTfM0jUsDhH"
   }
  },
  {
   "cell_type": "markdown",
   "source": [
    "---\n",
    "### LSTM Inputs/Outputs\n",
    "\n",
    "You can create a basic [LSTM layer](https://pytorch.org/docs/stable/nn.html#lstm) as follows\n",
    "\n",
    "```python\n",
    "self.lstm = nn.LSTM(input_size, n_hidden, n_layers, \n",
    "                            dropout=drop_prob, batch_first=True)\n",
    "```\n",
    "\n",
    "where `input_size` is the number of characters this cell expects to see as sequential input, and `n_hidden` is the number of units in the hidden layers in the cell. And we can add dropout by adding a dropout parameter with a specified probability; this will automatically add dropout to the inputs or outputs. Finally, in the `forward` function, we can stack up the LSTM cells into layers using `.view`. With this, you pass in a list of cells and it will send the output of one cell into the next cell.\n",
    "\n",
    "We also need to create an initial hidden state of all zeros. This is done like so\n",
    "\n",
    "```python\n",
    "self.init_hidden()\n",
    "```"
   ],
   "metadata": {
    "id": "TF6RiiWosDhI"
   }
  },
  {
   "cell_type": "code",
   "execution_count": 11,
   "source": [
    "# check if GPU is available\n",
    "train_on_gpu = torch.cuda.is_available()\n",
    "if(train_on_gpu):\n",
    "    print('Training on GPU!')\n",
    "else: \n",
    "    print('No GPU available, training on CPU; consider making n_epochs very small.')"
   ],
   "outputs": [
    {
     "output_type": "stream",
     "name": "stdout",
     "text": [
      "Training on GPU!\n"
     ]
    }
   ],
   "metadata": {
    "colab": {
     "base_uri": "https://localhost:8080/"
    },
    "id": "89BX_rLusDhJ",
    "outputId": "025955ce-6a1e-47e1-f9bc-66245a98407f"
   }
  },
  {
   "cell_type": "code",
   "execution_count": 18,
   "source": [
    "class CharRNN(nn.Module):\n",
    "    \n",
    "    def __init__(self, tokens, n_hidden=256, n_layers=2,\n",
    "                               drop_prob=0.5, lr=0.001):\n",
    "        super().__init__()\n",
    "        self.drop_prob = drop_prob\n",
    "        self.n_layers = n_layers\n",
    "        self.n_hidden = n_hidden\n",
    "        self.lr = lr\n",
    "        \n",
    "        # creating character dictionaries\n",
    "        self.chars = tokens\n",
    "        self.int2char = dict(enumerate(self.chars))\n",
    "        self.char2int = {ch: ii for ii, ch in self.int2char.items()}\n",
    "        \n",
    "        ## TODO: define the layers of the model\n",
    "        self.lstm = nn.LSTM(input_size=len(self.chars), hidden_size =n_hidden, num_layers=n_layers, \n",
    "                            dropout=drop_prob, batch_first=True)\n",
    "        self.dropout = nn.Dropout(drop_prob)\n",
    "        self.linear = nn.Linear(n_hidden, len(self.chars))\n",
    "      \n",
    "    \n",
    "    def forward(self, x, hidden):\n",
    "        ''' Forward pass through the network. \n",
    "            These inputs are x, and the hidden/cell state `hidden`. '''\n",
    "                \n",
    "        ## TODO: Get the outputs and the new hidden state from the lstm\n",
    "        r_output, hidden = self.lstm(x, hidden)\n",
    "        \n",
    "        out = self.dropout(r_output)\n",
    "        \n",
    "        # Stack up LSTM outputs using view\n",
    "        # you may need to use contiguous to reshape the output\n",
    "        out = out.contiguous().view(-1, self.n_hidden)\n",
    "        \n",
    "        out = self.linear(out)\n",
    "        \n",
    "        # return the final output and the hidden state\n",
    "        return out, hidden\n",
    "    \n",
    "    \n",
    "    def init_hidden(self, batch_size):\n",
    "        ''' Initializes hidden state '''\n",
    "        # Create two new tensors with sizes n_layers x batch_size x n_hidden,\n",
    "        # initialized to zero, for hidden state and cell state of LSTM\n",
    "        weight = next(self.parameters()).data\n",
    "        \n",
    "        if (train_on_gpu):\n",
    "            hidden = (weight.new(self.n_layers, batch_size, self.n_hidden).zero_().cuda(),\n",
    "                  weight.new(self.n_layers, batch_size, self.n_hidden).zero_().cuda())\n",
    "        else:\n",
    "            hidden = (weight.new(self.n_layers, batch_size, self.n_hidden).zero_(),\n",
    "                      weight.new(self.n_layers, batch_size, self.n_hidden).zero_())\n",
    "        \n",
    "        return hidden"
   ],
   "outputs": [],
   "metadata": {
    "id": "tJQN2uacsDhL"
   }
  },
  {
   "cell_type": "markdown",
   "source": [
    "## Time to train\n",
    "\n",
    "The train function gives us the ability to set the number of epochs, the learning rate, and other parameters.\n",
    "\n",
    "Below we're using an Adam optimizer and cross entropy loss since we are looking at character class scores as output. We calculate the loss and perform backpropagation, as usual!\n",
    "\n",
    "A couple of details about training: \n",
    ">* Within the batch loop, we detach the hidden state from its history; this time setting it equal to a new *tuple* variable because an LSTM has a hidden state that is a tuple of the hidden and cell states.\n",
    "* We use [`clip_grad_norm_`](https://pytorch.org/docs/stable/_modules/torch/nn/utils/clip_grad.html) to help prevent exploding gradients."
   ],
   "metadata": {
    "id": "J3koLVLzsDhM"
   }
  },
  {
   "cell_type": "code",
   "execution_count": 19,
   "source": [
    "def train(net, data, epochs=10, batch_size=10, seq_length=50, lr=0.001, clip=5, val_frac=0.1, print_every=10):\n",
    "    ''' Training a network \n",
    "    \n",
    "        Arguments\n",
    "        ---------\n",
    "        \n",
    "        net: CharRNN network\n",
    "        data: text data to train the network\n",
    "        epochs: Number of epochs to train\n",
    "        batch_size: Number of mini-sequences per mini-batch, aka batch size\n",
    "        seq_length: Number of character steps per mini-batch\n",
    "        lr: learning rate\n",
    "        clip: gradient clipping\n",
    "        val_frac: Fraction of data to hold out for validation\n",
    "        print_every: Number of steps for printing training and validation loss\n",
    "    \n",
    "    '''\n",
    "    net.train()\n",
    "    \n",
    "    opt = torch.optim.Adam(net.parameters(), lr=lr)\n",
    "    criterion = nn.CrossEntropyLoss()\n",
    "    \n",
    "    # create training and validation data\n",
    "    val_idx = int(len(data)*(1-val_frac))\n",
    "    data, val_data = data[:val_idx], data[val_idx:]\n",
    "    \n",
    "    if(train_on_gpu):\n",
    "        net.cuda()\n",
    "    \n",
    "    counter = 0\n",
    "    n_chars = len(net.chars)\n",
    "    for e in range(epochs):\n",
    "        # initialize hidden state\n",
    "        h = net.init_hidden(batch_size)\n",
    "        \n",
    "        for x, y in get_batches(data, batch_size, seq_length):\n",
    "            counter += 1\n",
    "            \n",
    "            # One-hot encode our data and make them Torch tensors\n",
    "            x = one_hot_encode(x, n_chars)\n",
    "            inputs, targets = torch.from_numpy(x), torch.from_numpy(y)\n",
    "            \n",
    "            if(train_on_gpu):\n",
    "                inputs, targets = inputs.cuda(), targets.cuda()\n",
    "\n",
    "            # Creating new variables for the hidden state, otherwise\n",
    "            # we'd backprop through the entire training history\n",
    "            h = tuple([each.data for each in h])\n",
    "\n",
    "            # zero accumulated gradients\n",
    "            net.zero_grad()\n",
    "            \n",
    "            # get the output from the model\n",
    "            output, h = net(inputs, h)\n",
    "            \n",
    "            # calculate the loss and perform backprop\n",
    "            loss = criterion(output, targets.view(batch_size*seq_length).long())\n",
    "            loss.backward()\n",
    "            # `clip_grad_norm` helps prevent the exploding gradient problem in RNNs / LSTMs.\n",
    "            nn.utils.clip_grad_norm_(net.parameters(), clip)\n",
    "            opt.step()\n",
    "            \n",
    "            # loss stats\n",
    "            if counter % print_every == 0:\n",
    "                # Get validation loss\n",
    "                val_h = net.init_hidden(batch_size)\n",
    "                val_losses = []\n",
    "                net.eval()\n",
    "                for x, y in get_batches(val_data, batch_size, seq_length):\n",
    "                    # One-hot encode our data and make them Torch tensors\n",
    "                    x = one_hot_encode(x, n_chars)\n",
    "                    x, y = torch.from_numpy(x), torch.from_numpy(y)\n",
    "                    \n",
    "                    # Creating new variables for the hidden state, otherwise\n",
    "                    # we'd backprop through the entire training history\n",
    "                    val_h = tuple([each.data for each in val_h])\n",
    "                    \n",
    "                    inputs, targets = x, y\n",
    "                    if(train_on_gpu):\n",
    "                        inputs, targets = inputs.cuda(), targets.cuda()\n",
    "\n",
    "                    output, val_h = net(inputs, val_h)\n",
    "                    val_loss = criterion(output, targets.view(batch_size*seq_length).long())\n",
    "                \n",
    "                    val_losses.append(val_loss.item())\n",
    "                \n",
    "                net.train() # reset to train mode after iterationg through validation data\n",
    "                \n",
    "                print(\"Epoch: {}/{}...\".format(e+1, epochs),\n",
    "                      \"Step: {}...\".format(counter),\n",
    "                      \"Loss: {:.4f}...\".format(loss.item()),\n",
    "                      \"Val Loss: {:.4f}\".format(np.mean(val_losses)))"
   ],
   "outputs": [],
   "metadata": {
    "id": "nLbGAfJVsDhM"
   }
  },
  {
   "cell_type": "markdown",
   "source": [
    "## Instantiating the model\n",
    "\n",
    "Now we can actually train the network. First we'll create the network itself, with some given hyperparameters. Then, define the mini-batches sizes, and start training!"
   ],
   "metadata": {
    "id": "_AJ2cBqTsDhP"
   }
  },
  {
   "cell_type": "code",
   "execution_count": 20,
   "source": [
    "## TODO: set your model hyperparameters\n",
    "# define and print the net\n",
    "n_hidden = 512\n",
    "n_layers = 2\n",
    "\n",
    "net = CharRNN(chars, n_hidden, n_layers)\n",
    "print(net)"
   ],
   "outputs": [
    {
     "output_type": "stream",
     "name": "stdout",
     "text": [
      "CharRNN(\n",
      "  (lstm): LSTM(83, 512, num_layers=2, batch_first=True, dropout=0.5)\n",
      "  (dropout): Dropout(p=0.5, inplace=False)\n",
      "  (linear): Linear(in_features=512, out_features=83, bias=True)\n",
      ")\n"
     ]
    }
   ],
   "metadata": {
    "colab": {
     "base_uri": "https://localhost:8080/"
    },
    "id": "B8usC2TysDhQ",
    "outputId": "489147e8-5f2e-4810-d56a-d2e279dfc3bd"
   }
  },
  {
   "cell_type": "markdown",
   "source": [
    "### Set your training hyperparameters!"
   ],
   "metadata": {
    "id": "4-DLtynWsDhQ"
   }
  },
  {
   "cell_type": "code",
   "execution_count": 21,
   "source": [
    "batch_size = 128\n",
    "seq_length = 100\n",
    "n_epochs =  20# start small if you are just testing initial behavior\n",
    "\n",
    "# train the model\n",
    "train(net, encoded, epochs=n_epochs, batch_size=batch_size, seq_length=seq_length, lr=0.001, print_every=10)"
   ],
   "outputs": [
    {
     "output_type": "stream",
     "name": "stdout",
     "text": [
      "Epoch: 1/20... Step: 10... Loss: 3.2775... Val Loss: 3.2210\n",
      "Epoch: 1/20... Step: 20... Loss: 3.1514... Val Loss: 3.1392\n",
      "Epoch: 1/20... Step: 30... Loss: 3.1482... Val Loss: 3.1257\n",
      "Epoch: 1/20... Step: 40... Loss: 3.1101... Val Loss: 3.1190\n",
      "Epoch: 1/20... Step: 50... Loss: 3.1419... Val Loss: 3.1176\n",
      "Epoch: 1/20... Step: 60... Loss: 3.1197... Val Loss: 3.1148\n",
      "Epoch: 1/20... Step: 70... Loss: 3.1095... Val Loss: 3.1118\n",
      "Epoch: 1/20... Step: 80... Loss: 3.1165... Val Loss: 3.1035\n",
      "Epoch: 1/20... Step: 90... Loss: 3.1025... Val Loss: 3.0854\n",
      "Epoch: 1/20... Step: 100... Loss: 3.0556... Val Loss: 3.0372\n",
      "Epoch: 1/20... Step: 110... Loss: 2.9827... Val Loss: 2.9534\n",
      "Epoch: 1/20... Step: 120... Loss: 2.9215... Val Loss: 2.9262\n",
      "Epoch: 1/20... Step: 130... Loss: 2.8582... Val Loss: 2.8194\n",
      "Epoch: 2/20... Step: 140... Loss: 2.7691... Val Loss: 2.7253\n",
      "Epoch: 2/20... Step: 150... Loss: 2.6690... Val Loss: 2.6236\n",
      "Epoch: 2/20... Step: 160... Loss: 2.5842... Val Loss: 2.5436\n",
      "Epoch: 2/20... Step: 170... Loss: 2.5089... Val Loss: 2.4958\n",
      "Epoch: 2/20... Step: 180... Loss: 2.4829... Val Loss: 2.4556\n",
      "Epoch: 2/20... Step: 190... Loss: 2.4327... Val Loss: 2.4242\n",
      "Epoch: 2/20... Step: 200... Loss: 2.4258... Val Loss: 2.4026\n",
      "Epoch: 2/20... Step: 210... Loss: 2.3957... Val Loss: 2.3669\n",
      "Epoch: 2/20... Step: 220... Loss: 2.3619... Val Loss: 2.3427\n",
      "Epoch: 2/20... Step: 230... Loss: 2.3583... Val Loss: 2.3289\n",
      "Epoch: 2/20... Step: 240... Loss: 2.3322... Val Loss: 2.2983\n",
      "Epoch: 2/20... Step: 250... Loss: 2.2720... Val Loss: 2.2761\n",
      "Epoch: 2/20... Step: 260... Loss: 2.2507... Val Loss: 2.2460\n",
      "Epoch: 2/20... Step: 270... Loss: 2.2505... Val Loss: 2.2252\n",
      "Epoch: 3/20... Step: 280... Loss: 2.2563... Val Loss: 2.2017\n",
      "Epoch: 3/20... Step: 290... Loss: 2.2162... Val Loss: 2.1754\n",
      "Epoch: 3/20... Step: 300... Loss: 2.1965... Val Loss: 2.1550\n",
      "Epoch: 3/20... Step: 310... Loss: 2.1721... Val Loss: 2.1345\n",
      "Epoch: 3/20... Step: 320... Loss: 2.1328... Val Loss: 2.1146\n",
      "Epoch: 3/20... Step: 330... Loss: 2.1005... Val Loss: 2.0935\n",
      "Epoch: 3/20... Step: 340... Loss: 2.1216... Val Loss: 2.0757\n",
      "Epoch: 3/20... Step: 350... Loss: 2.1093... Val Loss: 2.0712\n",
      "Epoch: 3/20... Step: 360... Loss: 2.0398... Val Loss: 2.0473\n",
      "Epoch: 3/20... Step: 370... Loss: 2.0662... Val Loss: 2.0266\n",
      "Epoch: 3/20... Step: 380... Loss: 2.0339... Val Loss: 2.0101\n",
      "Epoch: 3/20... Step: 390... Loss: 2.0081... Val Loss: 1.9913\n",
      "Epoch: 3/20... Step: 400... Loss: 1.9828... Val Loss: 1.9755\n",
      "Epoch: 3/20... Step: 410... Loss: 1.9895... Val Loss: 1.9609\n",
      "Epoch: 4/20... Step: 420... Loss: 1.9837... Val Loss: 1.9494\n",
      "Epoch: 4/20... Step: 430... Loss: 1.9750... Val Loss: 1.9300\n",
      "Epoch: 4/20... Step: 440... Loss: 1.9513... Val Loss: 1.9246\n",
      "Epoch: 4/20... Step: 450... Loss: 1.8885... Val Loss: 1.9065\n",
      "Epoch: 4/20... Step: 460... Loss: 1.8821... Val Loss: 1.8932\n",
      "Epoch: 4/20... Step: 470... Loss: 1.9142... Val Loss: 1.8842\n",
      "Epoch: 4/20... Step: 480... Loss: 1.8963... Val Loss: 1.8725\n",
      "Epoch: 4/20... Step: 490... Loss: 1.8967... Val Loss: 1.8624\n",
      "Epoch: 4/20... Step: 500... Loss: 1.8905... Val Loss: 1.8472\n",
      "Epoch: 4/20... Step: 510... Loss: 1.8680... Val Loss: 1.8358\n",
      "Epoch: 4/20... Step: 520... Loss: 1.8759... Val Loss: 1.8270\n",
      "Epoch: 4/20... Step: 530... Loss: 1.8388... Val Loss: 1.8142\n",
      "Epoch: 4/20... Step: 540... Loss: 1.8074... Val Loss: 1.8041\n",
      "Epoch: 4/20... Step: 550... Loss: 1.8502... Val Loss: 1.7941\n",
      "Epoch: 5/20... Step: 560... Loss: 1.8196... Val Loss: 1.7829\n",
      "Epoch: 5/20... Step: 570... Loss: 1.7948... Val Loss: 1.7776\n",
      "Epoch: 5/20... Step: 580... Loss: 1.7692... Val Loss: 1.7673\n",
      "Epoch: 5/20... Step: 590... Loss: 1.7783... Val Loss: 1.7573\n",
      "Epoch: 5/20... Step: 600... Loss: 1.7565... Val Loss: 1.7525\n",
      "Epoch: 5/20... Step: 610... Loss: 1.7504... Val Loss: 1.7459\n",
      "Epoch: 5/20... Step: 620... Loss: 1.7537... Val Loss: 1.7374\n",
      "Epoch: 5/20... Step: 630... Loss: 1.7715... Val Loss: 1.7271\n",
      "Epoch: 5/20... Step: 640... Loss: 1.7364... Val Loss: 1.7192\n",
      "Epoch: 5/20... Step: 650... Loss: 1.7121... Val Loss: 1.7112\n",
      "Epoch: 5/20... Step: 660... Loss: 1.7004... Val Loss: 1.7028\n",
      "Epoch: 5/20... Step: 670... Loss: 1.7314... Val Loss: 1.6954\n",
      "Epoch: 5/20... Step: 680... Loss: 1.7266... Val Loss: 1.6928\n",
      "Epoch: 5/20... Step: 690... Loss: 1.6988... Val Loss: 1.6848\n",
      "Epoch: 6/20... Step: 700... Loss: 1.6955... Val Loss: 1.6739\n",
      "Epoch: 6/20... Step: 710... Loss: 1.6874... Val Loss: 1.6746\n",
      "Epoch: 6/20... Step: 720... Loss: 1.6689... Val Loss: 1.6618\n",
      "Epoch: 6/20... Step: 730... Loss: 1.6776... Val Loss: 1.6569\n",
      "Epoch: 6/20... Step: 740... Loss: 1.6589... Val Loss: 1.6520\n",
      "Epoch: 6/20... Step: 750... Loss: 1.6365... Val Loss: 1.6483\n",
      "Epoch: 6/20... Step: 760... Loss: 1.6732... Val Loss: 1.6429\n",
      "Epoch: 6/20... Step: 770... Loss: 1.6521... Val Loss: 1.6396\n",
      "Epoch: 6/20... Step: 780... Loss: 1.6294... Val Loss: 1.6310\n",
      "Epoch: 6/20... Step: 790... Loss: 1.6201... Val Loss: 1.6229\n",
      "Epoch: 6/20... Step: 800... Loss: 1.6355... Val Loss: 1.6307\n",
      "Epoch: 6/20... Step: 810... Loss: 1.6294... Val Loss: 1.6122\n",
      "Epoch: 6/20... Step: 820... Loss: 1.5874... Val Loss: 1.6062\n",
      "Epoch: 6/20... Step: 830... Loss: 1.6377... Val Loss: 1.6053\n",
      "Epoch: 7/20... Step: 840... Loss: 1.5821... Val Loss: 1.5984\n",
      "Epoch: 7/20... Step: 850... Loss: 1.6070... Val Loss: 1.5982\n",
      "Epoch: 7/20... Step: 860... Loss: 1.5903... Val Loss: 1.5895\n",
      "Epoch: 7/20... Step: 870... Loss: 1.6046... Val Loss: 1.5844\n",
      "Epoch: 7/20... Step: 880... Loss: 1.5910... Val Loss: 1.5822\n",
      "Epoch: 7/20... Step: 890... Loss: 1.5946... Val Loss: 1.5767\n",
      "Epoch: 7/20... Step: 900... Loss: 1.5755... Val Loss: 1.5705\n",
      "Epoch: 7/20... Step: 910... Loss: 1.5382... Val Loss: 1.5712\n",
      "Epoch: 7/20... Step: 920... Loss: 1.5754... Val Loss: 1.5656\n",
      "Epoch: 7/20... Step: 930... Loss: 1.5563... Val Loss: 1.5580\n",
      "Epoch: 7/20... Step: 940... Loss: 1.5539... Val Loss: 1.5566\n",
      "Epoch: 7/20... Step: 950... Loss: 1.5721... Val Loss: 1.5494\n",
      "Epoch: 7/20... Step: 960... Loss: 1.5619... Val Loss: 1.5483\n",
      "Epoch: 7/20... Step: 970... Loss: 1.5761... Val Loss: 1.5444\n",
      "Epoch: 8/20... Step: 980... Loss: 1.5542... Val Loss: 1.5418\n",
      "Epoch: 8/20... Step: 990... Loss: 1.5426... Val Loss: 1.5364\n",
      "Epoch: 8/20... Step: 1000... Loss: 1.5359... Val Loss: 1.5304\n",
      "Epoch: 8/20... Step: 1010... Loss: 1.5729... Val Loss: 1.5298\n",
      "Epoch: 8/20... Step: 1020... Loss: 1.5469... Val Loss: 1.5274\n",
      "Epoch: 8/20... Step: 1030... Loss: 1.5270... Val Loss: 1.5241\n",
      "Epoch: 8/20... Step: 1040... Loss: 1.5359... Val Loss: 1.5236\n",
      "Epoch: 8/20... Step: 1050... Loss: 1.5186... Val Loss: 1.5161\n",
      "Epoch: 8/20... Step: 1060... Loss: 1.5179... Val Loss: 1.5130\n",
      "Epoch: 8/20... Step: 1070... Loss: 1.5200... Val Loss: 1.5153\n",
      "Epoch: 8/20... Step: 1080... Loss: 1.5248... Val Loss: 1.5094\n",
      "Epoch: 8/20... Step: 1090... Loss: 1.4958... Val Loss: 1.5010\n",
      "Epoch: 8/20... Step: 1100... Loss: 1.4872... Val Loss: 1.5015\n",
      "Epoch: 8/20... Step: 1110... Loss: 1.5044... Val Loss: 1.4997\n",
      "Epoch: 9/20... Step: 1120... Loss: 1.5089... Val Loss: 1.5030\n",
      "Epoch: 9/20... Step: 1130... Loss: 1.5061... Val Loss: 1.4950\n",
      "Epoch: 9/20... Step: 1140... Loss: 1.5049... Val Loss: 1.4889\n",
      "Epoch: 9/20... Step: 1150... Loss: 1.5215... Val Loss: 1.4883\n",
      "Epoch: 9/20... Step: 1160... Loss: 1.4685... Val Loss: 1.4855\n",
      "Epoch: 9/20... Step: 1170... Loss: 1.4791... Val Loss: 1.4817\n",
      "Epoch: 9/20... Step: 1180... Loss: 1.4785... Val Loss: 1.4835\n",
      "Epoch: 9/20... Step: 1190... Loss: 1.5005... Val Loss: 1.4774\n",
      "Epoch: 9/20... Step: 1200... Loss: 1.4551... Val Loss: 1.4733\n",
      "Epoch: 9/20... Step: 1210... Loss: 1.4649... Val Loss: 1.4740\n",
      "Epoch: 9/20... Step: 1220... Loss: 1.4688... Val Loss: 1.4685\n",
      "Epoch: 9/20... Step: 1230... Loss: 1.4494... Val Loss: 1.4670\n",
      "Epoch: 9/20... Step: 1240... Loss: 1.4547... Val Loss: 1.4639\n",
      "Epoch: 9/20... Step: 1250... Loss: 1.4628... Val Loss: 1.4636\n",
      "Epoch: 10/20... Step: 1260... Loss: 1.4650... Val Loss: 1.4621\n",
      "Epoch: 10/20... Step: 1270... Loss: 1.4618... Val Loss: 1.4569\n",
      "Epoch: 10/20... Step: 1280... Loss: 1.4764... Val Loss: 1.4543\n",
      "Epoch: 10/20... Step: 1290... Loss: 1.4544... Val Loss: 1.4547\n",
      "Epoch: 10/20... Step: 1300... Loss: 1.4481... Val Loss: 1.4554\n",
      "Epoch: 10/20... Step: 1310... Loss: 1.4508... Val Loss: 1.4487\n",
      "Epoch: 10/20... Step: 1320... Loss: 1.4306... Val Loss: 1.4482\n",
      "Epoch: 10/20... Step: 1330... Loss: 1.4328... Val Loss: 1.4461\n",
      "Epoch: 10/20... Step: 1340... Loss: 1.4177... Val Loss: 1.4426\n",
      "Epoch: 10/20... Step: 1350... Loss: 1.4147... Val Loss: 1.4457\n",
      "Epoch: 10/20... Step: 1360... Loss: 1.4180... Val Loss: 1.4405\n",
      "Epoch: 10/20... Step: 1370... Loss: 1.4008... Val Loss: 1.4389\n",
      "Epoch: 10/20... Step: 1380... Loss: 1.4513... Val Loss: 1.4333\n",
      "Epoch: 10/20... Step: 1390... Loss: 1.4450... Val Loss: 1.4333\n",
      "Epoch: 11/20... Step: 1400... Loss: 1.4568... Val Loss: 1.4326\n",
      "Epoch: 11/20... Step: 1410... Loss: 1.4696... Val Loss: 1.4312\n",
      "Epoch: 11/20... Step: 1420... Loss: 1.4428... Val Loss: 1.4268\n",
      "Epoch: 11/20... Step: 1430... Loss: 1.4221... Val Loss: 1.4270\n",
      "Epoch: 11/20... Step: 1440... Loss: 1.4438... Val Loss: 1.4259\n",
      "Epoch: 11/20... Step: 1450... Loss: 1.3751... Val Loss: 1.4207\n",
      "Epoch: 11/20... Step: 1460... Loss: 1.3983... Val Loss: 1.4221\n",
      "Epoch: 11/20... Step: 1470... Loss: 1.4026... Val Loss: 1.4215\n",
      "Epoch: 11/20... Step: 1480... Loss: 1.4068... Val Loss: 1.4156\n",
      "Epoch: 11/20... Step: 1490... Loss: 1.4076... Val Loss: 1.4176\n",
      "Epoch: 11/20... Step: 1500... Loss: 1.3927... Val Loss: 1.4158\n",
      "Epoch: 11/20... Step: 1510... Loss: 1.3768... Val Loss: 1.4123\n",
      "Epoch: 11/20... Step: 1520... Loss: 1.4158... Val Loss: 1.4113\n",
      "Epoch: 12/20... Step: 1530... Loss: 1.4546... Val Loss: 1.4090\n",
      "Epoch: 12/20... Step: 1540... Loss: 1.4133... Val Loss: 1.4049\n",
      "Epoch: 12/20... Step: 1550... Loss: 1.4092... Val Loss: 1.4078\n",
      "Epoch: 12/20... Step: 1560... Loss: 1.4256... Val Loss: 1.4022\n",
      "Epoch: 12/20... Step: 1570... Loss: 1.3807... Val Loss: 1.4040\n",
      "Epoch: 12/20... Step: 1580... Loss: 1.3505... Val Loss: 1.4031\n",
      "Epoch: 12/20... Step: 1590... Loss: 1.3552... Val Loss: 1.3997\n",
      "Epoch: 12/20... Step: 1600... Loss: 1.3866... Val Loss: 1.3996\n",
      "Epoch: 12/20... Step: 1610... Loss: 1.3638... Val Loss: 1.4029\n",
      "Epoch: 12/20... Step: 1620... Loss: 1.3630... Val Loss: 1.3947\n",
      "Epoch: 12/20... Step: 1630... Loss: 1.3886... Val Loss: 1.3941\n",
      "Epoch: 12/20... Step: 1640... Loss: 1.3721... Val Loss: 1.3941\n",
      "Epoch: 12/20... Step: 1650... Loss: 1.3475... Val Loss: 1.3953\n",
      "Epoch: 12/20... Step: 1660... Loss: 1.3950... Val Loss: 1.3897\n",
      "Epoch: 13/20... Step: 1670... Loss: 1.3621... Val Loss: 1.3898\n",
      "Epoch: 13/20... Step: 1680... Loss: 1.3765... Val Loss: 1.3848\n",
      "Epoch: 13/20... Step: 1690... Loss: 1.3559... Val Loss: 1.3874\n",
      "Epoch: 13/20... Step: 1700... Loss: 1.3581... Val Loss: 1.3858\n",
      "Epoch: 13/20... Step: 1710... Loss: 1.3363... Val Loss: 1.3841\n",
      "Epoch: 13/20... Step: 1720... Loss: 1.3449... Val Loss: 1.3867\n",
      "Epoch: 13/20... Step: 1730... Loss: 1.3857... Val Loss: 1.3804\n",
      "Epoch: 13/20... Step: 1740... Loss: 1.3550... Val Loss: 1.3804\n",
      "Epoch: 13/20... Step: 1750... Loss: 1.3247... Val Loss: 1.3826\n",
      "Epoch: 13/20... Step: 1760... Loss: 1.3470... Val Loss: 1.3757\n",
      "Epoch: 13/20... Step: 1770... Loss: 1.3697... Val Loss: 1.3794\n",
      "Epoch: 13/20... Step: 1780... Loss: 1.3484... Val Loss: 1.3747\n",
      "Epoch: 13/20... Step: 1790... Loss: 1.3327... Val Loss: 1.3747\n",
      "Epoch: 13/20... Step: 1800... Loss: 1.3633... Val Loss: 1.3730\n",
      "Epoch: 14/20... Step: 1810... Loss: 1.3567... Val Loss: 1.3816\n",
      "Epoch: 14/20... Step: 1820... Loss: 1.3457... Val Loss: 1.3688\n",
      "Epoch: 14/20... Step: 1830... Loss: 1.3648... Val Loss: 1.3722\n",
      "Epoch: 14/20... Step: 1840... Loss: 1.3028... Val Loss: 1.3710\n",
      "Epoch: 14/20... Step: 1850... Loss: 1.2914... Val Loss: 1.3699\n",
      "Epoch: 14/20... Step: 1860... Loss: 1.3498... Val Loss: 1.3693\n",
      "Epoch: 14/20... Step: 1870... Loss: 1.3587... Val Loss: 1.3632\n",
      "Epoch: 14/20... Step: 1880... Loss: 1.3491... Val Loss: 1.3631\n",
      "Epoch: 14/20... Step: 1890... Loss: 1.3623... Val Loss: 1.3685\n",
      "Epoch: 14/20... Step: 1900... Loss: 1.3380... Val Loss: 1.3613\n",
      "Epoch: 14/20... Step: 1910... Loss: 1.3511... Val Loss: 1.3681\n",
      "Epoch: 14/20... Step: 1920... Loss: 1.3375... Val Loss: 1.3585\n",
      "Epoch: 14/20... Step: 1930... Loss: 1.3029... Val Loss: 1.3577\n",
      "Epoch: 14/20... Step: 1940... Loss: 1.3555... Val Loss: 1.3592\n",
      "Epoch: 15/20... Step: 1950... Loss: 1.3239... Val Loss: 1.3638\n",
      "Epoch: 15/20... Step: 1960... Loss: 1.3256... Val Loss: 1.3544\n",
      "Epoch: 15/20... Step: 1970... Loss: 1.3157... Val Loss: 1.3587\n",
      "Epoch: 15/20... Step: 1980... Loss: 1.3143... Val Loss: 1.3552\n",
      "Epoch: 15/20... Step: 1990... Loss: 1.3130... Val Loss: 1.3548\n",
      "Epoch: 15/20... Step: 2000... Loss: 1.3019... Val Loss: 1.3524\n",
      "Epoch: 15/20... Step: 2010... Loss: 1.3274... Val Loss: 1.3465\n",
      "Epoch: 15/20... Step: 2020... Loss: 1.3373... Val Loss: 1.3510\n",
      "Epoch: 15/20... Step: 2030... Loss: 1.2956... Val Loss: 1.3499\n",
      "Epoch: 15/20... Step: 2040... Loss: 1.3230... Val Loss: 1.3452\n",
      "Epoch: 15/20... Step: 2050... Loss: 1.3047... Val Loss: 1.3516\n",
      "Epoch: 15/20... Step: 2060... Loss: 1.3176... Val Loss: 1.3470\n",
      "Epoch: 15/20... Step: 2070... Loss: 1.3333... Val Loss: 1.3482\n",
      "Epoch: 15/20... Step: 2080... Loss: 1.3157... Val Loss: 1.3445\n",
      "Epoch: 16/20... Step: 2090... Loss: 1.3264... Val Loss: 1.3494\n",
      "Epoch: 16/20... Step: 2100... Loss: 1.3057... Val Loss: 1.3418\n",
      "Epoch: 16/20... Step: 2110... Loss: 1.3012... Val Loss: 1.3438\n",
      "Epoch: 16/20... Step: 2120... Loss: 1.3167... Val Loss: 1.3451\n",
      "Epoch: 16/20... Step: 2130... Loss: 1.2798... Val Loss: 1.3425\n",
      "Epoch: 16/20... Step: 2140... Loss: 1.2931... Val Loss: 1.3404\n",
      "Epoch: 16/20... Step: 2150... Loss: 1.3214... Val Loss: 1.3377\n",
      "Epoch: 16/20... Step: 2160... Loss: 1.2931... Val Loss: 1.3405\n",
      "Epoch: 16/20... Step: 2170... Loss: 1.2979... Val Loss: 1.3388\n",
      "Epoch: 16/20... Step: 2180... Loss: 1.2918... Val Loss: 1.3369\n",
      "Epoch: 16/20... Step: 2190... Loss: 1.3108... Val Loss: 1.3393\n",
      "Epoch: 16/20... Step: 2200... Loss: 1.2926... Val Loss: 1.3358\n",
      "Epoch: 16/20... Step: 2210... Loss: 1.2660... Val Loss: 1.3340\n",
      "Epoch: 16/20... Step: 2220... Loss: 1.3109... Val Loss: 1.3337\n",
      "Epoch: 17/20... Step: 2230... Loss: 1.2690... Val Loss: 1.3345\n",
      "Epoch: 17/20... Step: 2240... Loss: 1.2910... Val Loss: 1.3328\n",
      "Epoch: 17/20... Step: 2250... Loss: 1.2690... Val Loss: 1.3328\n",
      "Epoch: 17/20... Step: 2260... Loss: 1.2797... Val Loss: 1.3328\n",
      "Epoch: 17/20... Step: 2270... Loss: 1.2908... Val Loss: 1.3334\n",
      "Epoch: 17/20... Step: 2280... Loss: 1.3063... Val Loss: 1.3300\n",
      "Epoch: 17/20... Step: 2290... Loss: 1.2923... Val Loss: 1.3294\n",
      "Epoch: 17/20... Step: 2300... Loss: 1.2631... Val Loss: 1.3275\n",
      "Epoch: 17/20... Step: 2310... Loss: 1.2865... Val Loss: 1.3294\n",
      "Epoch: 17/20... Step: 2320... Loss: 1.2742... Val Loss: 1.3214\n",
      "Epoch: 17/20... Step: 2330... Loss: 1.2734... Val Loss: 1.3286\n",
      "Epoch: 17/20... Step: 2340... Loss: 1.2804... Val Loss: 1.3241\n",
      "Epoch: 17/20... Step: 2350... Loss: 1.2875... Val Loss: 1.3192\n",
      "Epoch: 17/20... Step: 2360... Loss: 1.2983... Val Loss: 1.3222\n",
      "Epoch: 18/20... Step: 2370... Loss: 1.2603... Val Loss: 1.3264\n",
      "Epoch: 18/20... Step: 2380... Loss: 1.2756... Val Loss: 1.3246\n",
      "Epoch: 18/20... Step: 2390... Loss: 1.2663... Val Loss: 1.3218\n",
      "Epoch: 18/20... Step: 2400... Loss: 1.2954... Val Loss: 1.3219\n",
      "Epoch: 18/20... Step: 2410... Loss: 1.2849... Val Loss: 1.3191\n",
      "Epoch: 18/20... Step: 2420... Loss: 1.2680... Val Loss: 1.3152\n",
      "Epoch: 18/20... Step: 2430... Loss: 1.2766... Val Loss: 1.3194\n",
      "Epoch: 18/20... Step: 2440... Loss: 1.2601... Val Loss: 1.3148\n",
      "Epoch: 18/20... Step: 2450... Loss: 1.2570... Val Loss: 1.3123\n",
      "Epoch: 18/20... Step: 2460... Loss: 1.2656... Val Loss: 1.3100\n",
      "Epoch: 18/20... Step: 2470... Loss: 1.2578... Val Loss: 1.3065\n",
      "Epoch: 18/20... Step: 2480... Loss: 1.2584... Val Loss: 1.3086\n",
      "Epoch: 18/20... Step: 2490... Loss: 1.2384... Val Loss: 1.3044\n",
      "Epoch: 18/20... Step: 2500... Loss: 1.2503... Val Loss: 1.3067\n",
      "Epoch: 19/20... Step: 2510... Loss: 1.2643... Val Loss: 1.3116\n",
      "Epoch: 19/20... Step: 2520... Loss: 1.2713... Val Loss: 1.3078\n",
      "Epoch: 19/20... Step: 2530... Loss: 1.2845... Val Loss: 1.3016\n",
      "Epoch: 19/20... Step: 2540... Loss: 1.2812... Val Loss: 1.3083\n",
      "Epoch: 19/20... Step: 2550... Loss: 1.2409... Val Loss: 1.3084\n",
      "Epoch: 19/20... Step: 2560... Loss: 1.2573... Val Loss: 1.2958\n",
      "Epoch: 19/20... Step: 2570... Loss: 1.2474... Val Loss: 1.2989\n",
      "Epoch: 19/20... Step: 2580... Loss: 1.2791... Val Loss: 1.3027\n",
      "Epoch: 19/20... Step: 2590... Loss: 1.2355... Val Loss: 1.2985\n",
      "Epoch: 19/20... Step: 2600... Loss: 1.2414... Val Loss: 1.2970\n",
      "Epoch: 19/20... Step: 2610... Loss: 1.2449... Val Loss: 1.2963\n",
      "Epoch: 19/20... Step: 2620... Loss: 1.2423... Val Loss: 1.2960\n",
      "Epoch: 19/20... Step: 2630... Loss: 1.2334... Val Loss: 1.2928\n",
      "Epoch: 19/20... Step: 2640... Loss: 1.2487... Val Loss: 1.3004\n",
      "Epoch: 20/20... Step: 2650... Loss: 1.2598... Val Loss: 1.2959\n",
      "Epoch: 20/20... Step: 2660... Loss: 1.2444... Val Loss: 1.2970\n",
      "Epoch: 20/20... Step: 2670... Loss: 1.2680... Val Loss: 1.2909\n",
      "Epoch: 20/20... Step: 2680... Loss: 1.2494... Val Loss: 1.2921\n",
      "Epoch: 20/20... Step: 2690... Loss: 1.2352... Val Loss: 1.2912\n",
      "Epoch: 20/20... Step: 2700... Loss: 1.2404... Val Loss: 1.2876\n",
      "Epoch: 20/20... Step: 2710... Loss: 1.2197... Val Loss: 1.2936\n",
      "Epoch: 20/20... Step: 2720... Loss: 1.2116... Val Loss: 1.2909\n",
      "Epoch: 20/20... Step: 2730... Loss: 1.2110... Val Loss: 1.2863\n",
      "Epoch: 20/20... Step: 2740... Loss: 1.2112... Val Loss: 1.2899\n",
      "Epoch: 20/20... Step: 2750... Loss: 1.2196... Val Loss: 1.2875\n",
      "Epoch: 20/20... Step: 2760... Loss: 1.2031... Val Loss: 1.2918\n",
      "Epoch: 20/20... Step: 2770... Loss: 1.2575... Val Loss: 1.2839\n",
      "Epoch: 20/20... Step: 2780... Loss: 1.2681... Val Loss: 1.2845\n"
     ]
    }
   ],
   "metadata": {
    "colab": {
     "base_uri": "https://localhost:8080/"
    },
    "id": "wq4WJFm_sDhQ",
    "outputId": "0bc4ff03-e328-4fc5-e03b-deac7812c0ce",
    "scrolled": true
   }
  },
  {
   "cell_type": "markdown",
   "source": [
    "## Getting the best model\n",
    "\n",
    "To set your hyperparameters to get the best performance, you'll want to watch the training and validation losses. If your training loss is much lower than the validation loss, you're overfitting. Increase regularization (more dropout) or use a smaller network. If the training and validation losses are close, you're underfitting so you can increase the size of the network."
   ],
   "metadata": {
    "id": "6YdigW6NsDhR"
   }
  },
  {
   "cell_type": "markdown",
   "source": [
    "## Hyperparameters\n",
    "\n",
    "Here are the hyperparameters for the network.\n",
    "\n",
    "In defining the model:\n",
    "* `n_hidden` - The number of units in the hidden layers.\n",
    "* `n_layers` - Number of hidden LSTM layers to use.\n",
    "\n",
    "We assume that dropout probability and learning rate will be kept at the default, in this example.\n",
    "\n",
    "And in training:\n",
    "* `batch_size` - Number of sequences running through the network in one pass.\n",
    "* `seq_length` - Number of characters in the sequence the network is trained on. Larger is better typically, the network will learn more long range dependencies. But it takes longer to train. 100 is typically a good number here.\n",
    "* `lr` - Learning rate for training\n",
    "\n",
    "Here's some good advice from Andrej Karpathy on training the network. I'm going to copy it in here for your benefit, but also link to [where it originally came from](https://github.com/karpathy/char-rnn#tips-and-tricks).\n",
    "\n",
    "> ## Tips and Tricks\n",
    "\n",
    ">### Monitoring Validation Loss vs. Training Loss\n",
    ">If you're somewhat new to Machine Learning or Neural Networks it can take a bit of expertise to get good models. The most important quantity to keep track of is the difference between your training loss (printed during training) and the validation loss (printed once in a while when the RNN is run on the validation data (by default every 1000 iterations)). In particular:\n",
    "\n",
    "> - If your training loss is much lower than validation loss then this means the network might be **overfitting**. Solutions to this are to decrease your network size, or to increase dropout. For example you could try dropout of 0.5 and so on.\n",
    "> - If your training/validation loss are about equal then your model is **underfitting**. Increase the size of your model (either number of layers or the raw number of neurons per layer)\n",
    "\n",
    "> ### Approximate number of parameters\n",
    "\n",
    "> The two most important parameters that control the model are `n_hidden` and `n_layers`. I would advise that you always use `n_layers` of either 2/3. The `n_hidden` can be adjusted based on how much data you have. The two important quantities to keep track of here are:\n",
    "\n",
    "> - The number of parameters in your model. This is printed when you start training.\n",
    "> - The size of your dataset. 1MB file is approximately 1 million characters.\n",
    "\n",
    ">These two should be about the same order of magnitude. It's a little tricky to tell. Here are some examples:\n",
    "\n",
    "> - I have a 100MB dataset and I'm using the default parameter settings (which currently print 150K parameters). My data size is significantly larger (100 mil >> 0.15 mil), so I expect to heavily underfit. I am thinking I can comfortably afford to make `n_hidden` larger.\n",
    "> - I have a 10MB dataset and running a 10 million parameter model. I'm slightly nervous and I'm carefully monitoring my validation loss. If it's larger than my training loss then I may want to try to increase dropout a bit and see if that helps the validation loss.\n",
    "\n",
    "> ### Best models strategy\n",
    "\n",
    ">The winning strategy to obtaining very good models (if you have the compute time) is to always err on making the network larger (as large as you're willing to wait for it to compute) and then try different dropout values (between 0,1). Whatever model has the best validation performance (the loss, written in the checkpoint filename, low is good) is the one you should use in the end.\n",
    "\n",
    ">It is very common in deep learning to run many different models with many different hyperparameter settings, and in the end take whatever checkpoint gave the best validation performance.\n",
    "\n",
    ">By the way, the size of your training and validation splits are also parameters. Make sure you have a decent amount of data in your validation set or otherwise the validation performance will be noisy and not very informative."
   ],
   "metadata": {
    "id": "8xkEhy8asDhR"
   }
  },
  {
   "cell_type": "markdown",
   "source": [
    "## Checkpoint\n",
    "\n",
    "After training, we'll save the model so we can load it again later if we need too. Here I'm saving the parameters needed to create the same architecture, the hidden layer hyperparameters and the text characters."
   ],
   "metadata": {
    "id": "5ZX1vBuHsDhS"
   }
  },
  {
   "cell_type": "code",
   "execution_count": 22,
   "source": [
    "# change the name, for saving multiple files\n",
    "model_name = 'rnn_x_epoch.net'\n",
    "\n",
    "checkpoint = {'n_hidden': net.n_hidden,\n",
    "              'n_layers': net.n_layers,\n",
    "              'state_dict': net.state_dict(),\n",
    "              'tokens': net.chars}\n",
    "\n",
    "with open(model_name, 'wb') as f:\n",
    "    torch.save(checkpoint, f)"
   ],
   "outputs": [],
   "metadata": {
    "collapsed": true,
    "id": "x0nZBGFWsDhS"
   }
  },
  {
   "cell_type": "markdown",
   "source": [
    "---\n",
    "## Making Predictions\n",
    "\n",
    "Now that the model is trained, we'll want to sample from it and make predictions about next characters! To sample, we pass in a character and have the network predict the next character. Then we take that character, pass it back in, and get another predicted character. Just keep doing this and you'll generate a bunch of text!\n",
    "\n",
    "### A note on the `predict`  function\n",
    "\n",
    "The output of our RNN is from a fully-connected layer and it outputs a **distribution of next-character scores**.\n",
    "\n",
    "> To actually get the next character, we apply a softmax function, which gives us a *probability* distribution that we can then sample to predict the next character.\n",
    "\n",
    "### Top K sampling\n",
    "\n",
    "Our predictions come from a categorical probability distribution over all the possible characters. We can make the sample text and make it more reasonable to handle (with less variables) by only considering some $K$ most probable characters. This will prevent the network from giving us completely absurd characters while allowing it to introduce some noise and randomness into the sampled text. Read more about [topk, here](https://pytorch.org/docs/stable/torch.html#torch.topk).\n"
   ],
   "metadata": {
    "id": "W6YKUAnIsDhS"
   }
  },
  {
   "cell_type": "code",
   "execution_count": 23,
   "source": [
    "def predict(net, char, h=None, top_k=None):\n",
    "        ''' Given a character, predict the next character.\n",
    "            Returns the predicted character and the hidden state.\n",
    "        '''\n",
    "        \n",
    "        # tensor inputs\n",
    "        x = np.array([[net.char2int[char]]])\n",
    "        x = one_hot_encode(x, len(net.chars))\n",
    "        inputs = torch.from_numpy(x)\n",
    "        \n",
    "        if(train_on_gpu):\n",
    "            inputs = inputs.cuda()\n",
    "        \n",
    "        # detach hidden state from history\n",
    "        h = tuple([each.data for each in h])\n",
    "        # get the output of the model\n",
    "        out, h = net(inputs, h)\n",
    "\n",
    "        # get the character probabilities\n",
    "        p = F.softmax(out, dim=1).data\n",
    "        if(train_on_gpu):\n",
    "            p = p.cpu() # move to cpu\n",
    "        \n",
    "        # get top characters\n",
    "        if top_k is None:\n",
    "            top_ch = np.arange(len(net.chars))\n",
    "        else:\n",
    "            p, top_ch = p.topk(top_k)\n",
    "            top_ch = top_ch.numpy().squeeze()\n",
    "        \n",
    "        # select the likely next character with some element of randomness\n",
    "        p = p.numpy().squeeze()\n",
    "        char = np.random.choice(top_ch, p=p/p.sum())\n",
    "        \n",
    "        # return the encoded value of the predicted char and the hidden state\n",
    "        return net.int2char[char], h"
   ],
   "outputs": [],
   "metadata": {
    "collapsed": true,
    "id": "FoTbTj4ysDhS"
   }
  },
  {
   "cell_type": "markdown",
   "source": [
    "### Priming and generating text \n",
    "\n",
    "Typically you'll want to prime the network so you can build up a hidden state. Otherwise the network will start out generating characters at random. In general the first bunch of characters will be a little rough since it hasn't built up a long history of characters to predict from."
   ],
   "metadata": {
    "id": "PBBgpboGsDhT"
   }
  },
  {
   "cell_type": "code",
   "execution_count": 24,
   "source": [
    "def sample(net, size, prime='The', top_k=None):\n",
    "        \n",
    "    if(train_on_gpu):\n",
    "        net.cuda()\n",
    "    else:\n",
    "        net.cpu()\n",
    "    \n",
    "    net.eval() # eval mode\n",
    "    \n",
    "    # First off, run through the prime characters\n",
    "    chars = [ch for ch in prime]\n",
    "    h = net.init_hidden(1)\n",
    "    for ch in prime:\n",
    "        char, h = predict(net, ch, h, top_k=top_k)\n",
    "\n",
    "    chars.append(char)\n",
    "    \n",
    "    # Now pass in the previous character and get a new one\n",
    "    for ii in range(size):\n",
    "        char, h = predict(net, chars[-1], h, top_k=top_k)\n",
    "        chars.append(char)\n",
    "\n",
    "    return ''.join(chars)"
   ],
   "outputs": [],
   "metadata": {
    "collapsed": true,
    "id": "dUtkJRSmsDhT"
   }
  },
  {
   "cell_type": "code",
   "execution_count": 25,
   "source": [
    "print(sample(net, 1000, prime='Anna', top_k=5))"
   ],
   "outputs": [
    {
     "output_type": "stream",
     "name": "stdout",
     "text": [
      "Anna\n",
      "and his shoulders was.\n",
      "\n",
      "The doctor had taking home to the sacraments of the more of some way as\n",
      "interesting to her attention, when he had been stonies and those always.\n",
      "\n",
      "\"We can't be a great deal of in his brother,\" he said to him, and\n",
      "strained the position about it; and went to the clard and the meaning of\n",
      "the most traceful cried, while they were sending him that\n",
      "to hear. Alexey Alexandrovitch was at hand and would have been strange in\n",
      "the more and horror and the same time, without the point of a portrait over\n",
      "another word on her face what was not, this things--all at that seese with his head of\n",
      "the stall, and her face and the crepary of all that seemed to him.\n",
      "\n",
      "\n",
      "\n",
      "Chapter 21\n",
      "\n",
      "\n",
      "Sortanies though he was taken to a child said: \"You do you while\n",
      "they drive to be intensely.\"\n",
      "\n",
      "The peasants were as a children, she feeling him.\n",
      "\n",
      "\"What will you suppose that I don't care in to the peasants.\"\n",
      "\n",
      "\"Well, would say. We will tell you this in the country and, and to me to say in all the\n",
      "music.\n",
      "\n",
      "\"All the\n"
     ]
    }
   ],
   "metadata": {
    "colab": {
     "base_uri": "https://localhost:8080/"
    },
    "collapsed": true,
    "id": "ZATpOjxIsDhT",
    "outputId": "376307f7-e388-4765-9b05-36b09a6b6290"
   }
  },
  {
   "cell_type": "markdown",
   "source": [
    "## Loading a checkpoint"
   ],
   "metadata": {
    "id": "NCnD8BnosDhU"
   }
  },
  {
   "cell_type": "code",
   "execution_count": 26,
   "source": [
    "# Here we have loaded in a model that trained over 20 epochs `rnn_20_epoch.net`\n",
    "with open('rnn_x_epoch.net', 'rb') as f:\n",
    "    checkpoint = torch.load(f)\n",
    "    \n",
    "loaded = CharRNN(checkpoint['tokens'], n_hidden=checkpoint['n_hidden'], n_layers=checkpoint['n_layers'])\n",
    "loaded.load_state_dict(checkpoint['state_dict'])"
   ],
   "outputs": [
    {
     "output_type": "execute_result",
     "data": {
      "text/plain": [
       "<All keys matched successfully>"
      ]
     },
     "metadata": {},
     "execution_count": 26
    }
   ],
   "metadata": {
    "colab": {
     "base_uri": "https://localhost:8080/"
    },
    "collapsed": true,
    "id": "bBeB23TtsDhU",
    "outputId": "bfca88d9-9130-4683-cc47-163f462f1ef6"
   }
  },
  {
   "cell_type": "code",
   "execution_count": 27,
   "source": [
    "# Sample using a loaded model\n",
    "print(sample(loaded, 2000, top_k=5, prime=\"And Levin said\"))"
   ],
   "outputs": [
    {
     "output_type": "stream",
     "name": "stdout",
     "text": [
      "And Levin said\n",
      "it. He filled to himself in all this, and he could not take herself\n",
      "the faces of the parts, as though he was started at her.\n",
      "\n",
      "How he had not been said to himself. She canged the princess and the conditions of the form\n",
      "with her straiget friends, she had all of a sort for matter, and all there had begned\n",
      "him, his stall and her son. She cried to her head over the sensation of a\n",
      "continually bown for his hands was since to his soul. A hand of all the same thing\n",
      "the position was standing would show his hands to the pair that he had seen\n",
      "her and sound, he was a gentleman and his councides, and so that it came\n",
      "to himself he still musident off the sound of that she could not\n",
      "have been a crail of souse, who was strange itself, but that what is sending\n",
      "him on the sideless of the man and and the faces, he was in\n",
      "a low thing for themeness; the criticated pression of terried inteeth\n",
      "in secindistic of her sunseed a position when they saw it with his\n",
      "hairs.\"\n",
      "\n",
      "\"Yes; but I shall be tore on another.\"\n",
      "\n",
      "\"All the constsition of more and more,\" said Alexey Alexandrovitch. Stilm and sat so as that\n",
      "there was no helped and called.\n",
      "\n",
      "\"I suppose I did say, there's no one and she has a land, a deligaced\n",
      "pleasing ones, and that I can't speak as I have always breeking them into the\n",
      "condition.\"\n",
      "\n",
      "And there and his complicated carriages and head of to the same thoughts of\n",
      "all to the word assomes of his wife of his face, to himself that worls\n",
      "was to see her. The coat was the possiot of the feeling of clearly\n",
      "in the standar side. He\n",
      "had not thome, and the starres of this capitily of their stright were talking\n",
      "into his house of her mind; but all the morning took the station and ashomitical\n",
      "colored and through his father. But he was considering the strigies that he could\n",
      "say a sort from the care and her meaning. He shook his eyes.\n",
      "\n",
      "\"Well, the persans, I am got up, and to see you are fell as to be in the\n",
      "marshal as the same.\" And she would not come to the party, and as\n",
      "soon as the peasants aressed time. H\n"
     ]
    }
   ],
   "metadata": {
    "colab": {
     "base_uri": "https://localhost:8080/"
    },
    "collapsed": true,
    "id": "_aDpXfzTsDhU",
    "outputId": "bc19c224-ce3f-4af6-b643-95c964f1e00c"
   }
  },
  {
   "cell_type": "code",
   "execution_count": null,
   "source": [],
   "outputs": [],
   "metadata": {
    "collapsed": true,
    "id": "iP82l9_9sDhU"
   }
  }
 ],
 "metadata": {
  "accelerator": "GPU",
  "colab": {
   "name": "Character_Level_RNN_Exercise.ipynb",
   "provenance": []
  },
  "kernelspec": {
   "display_name": "Python 3 (ipykernel)",
   "language": "python",
   "name": "python3"
  },
  "language_info": {
   "codemirror_mode": {
    "name": "ipython",
    "version": 3
   },
   "file_extension": ".py",
   "mimetype": "text/x-python",
   "name": "python",
   "nbconvert_exporter": "python",
   "pygments_lexer": "ipython3",
   "version": "3.7.9"
  }
 },
 "nbformat": 4,
 "nbformat_minor": 1
}